{
 "cells": [
  {
   "cell_type": "markdown",
   "id": "12d0bd2c-2029-44ba-b00b-5e80dcfd1f1d",
   "metadata": {},
   "source": [
    "# School Management System (OOP Practice)"
   ]
  },
  {
   "cell_type": "code",
   "execution_count": null,
   "id": "5f550a4f-e299-42a7-a756-fce540493b2e",
   "metadata": {},
   "outputs": [],
   "source": [
    "class Person:\n",
    "    def __init__(self, name, gender, age):\n",
    "        self.name = name\n",
    "        self.gender = gender\n",
    "        self.age = age\n",
    "\n",
    "    def show_info(self):\n",
    "        print(f\"Name: {self.name}\\nGender: {self.gender}\\nAge: {self.age}\")\n",
    "\n",
    "    def is_adult(self):\n",
    "        return self.age >= 18\n",
    "\n",
    "    def __str__(self):\n",
    "        return f\"{self.name} ({self.gender}, {self.age} )\"\n",
    "\n",
    "\n",
    "class Student(Person):\n",
    "    def __init__(self, name, gender, age, studentid):\n",
    "        super().__init__(name, gender, age)\n",
    "        self.studentid = studentid\n",
    "\n",
    "    def show_info(self):\n",
    "        super().show_info()\n",
    "        print(f\"Student ID: {self.studentid}\")\n",
    "\n",
    "    def __str__(self):\n",
    "        return f\" Student: {super().__str__()} - ID: {self.studentid}\"\n",
    "\n",
    "\n",
    "class Teacher(Person):\n",
    "    def __init__(self, name, gender, age, subject):\n",
    "        super().__init__(name, gender, age)\n",
    "        self.subject = subject\n",
    "\n",
    "    def show_info(self):\n",
    "        super().show_info()\n",
    "        print(f\"Subject: {self.subject}\")\n",
    "\n",
    "    def __str__(self):\n",
    "        return f\"Teacher: {super().__str__()} - Subject: {self.subject}\"\n",
    "\n",
    "\n",
    "def introduce_person(obj):\n",
    "    print(\"——— Info ———\")\n",
    "    obj.show_info()\n",
    "    if obj.is_adult():\n",
    "        print(\"This person is an adult ✅\")\n",
    "    else:\n",
    "        print(\"This person is not an adult ❌\")\n",
    "    print()\n",
    "\n",
    "\n",
    "\n",
    "people = [\n",
    "        Student(\"Sam\", \"Male\", 17, \"S9904\"),\n",
    "        Teacher(\"Sherri\", \"Female\", 33, \"Biomedical engineering\"),\n",
    "        Person(\"Juhan\", \"Male\", 16)\n",
    "    ]\n",
    "\n",
    "for person in people:\n",
    "    print(person) \n",
    "    introduce_person(person)\n"
   ]
  },
  {
   "cell_type": "code",
   "execution_count": null,
   "id": "e34d839c-4765-4d13-8104-8772b94a5fc8",
   "metadata": {},
   "outputs": [],
   "source": []
  }
 ],
 "metadata": {
  "kernelspec": {
   "display_name": "Python 3 (ipykernel)",
   "language": "python",
   "name": "python3"
  },
  "language_info": {
   "codemirror_mode": {
    "name": "ipython",
    "version": 3
   },
   "file_extension": ".py",
   "mimetype": "text/x-python",
   "name": "python",
   "nbconvert_exporter": "python",
   "pygments_lexer": "ipython3",
   "version": "3.12.9"
  }
 },
 "nbformat": 4,
 "nbformat_minor": 5
}
